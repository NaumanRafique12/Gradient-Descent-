{
  "nbformat": 4,
  "nbformat_minor": 0,
  "metadata": {
    "colab": {
      "provenance": []
    },
    "kernelspec": {
      "name": "python3",
      "display_name": "Python 3"
    },
    "language_info": {
      "name": "python"
    }
  },
  "cells": [
    {
      "cell_type": "code",
      "execution_count": 12,
      "metadata": {
        "colab": {
          "base_uri": "https://localhost:8080/"
        },
        "id": "eK3-nGyjIoVF",
        "outputId": "cfab3f54-ca8e-4af6-8054-61d0c87a44c8"
      },
      "outputs": [
        {
          "output_type": "stream",
          "name": "stdout",
          "text": [
            "(442, 10)\n",
            "(442,)\n",
            "[  -9.15865318 -205.45432163  516.69374454  340.61999905 -895.5520019\n",
            "  561.22067904  153.89310954  126.73139688  861.12700152   52.42112238]\n",
            "151.88331005254167\n"
          ]
        }
      ],
      "source": [
        "\n",
        "from sklearn.datasets import load_diabetes\n",
        "\n",
        "import numpy as np\n",
        "from sklearn.linear_model import LinearRegression\n",
        "from sklearn.metrics import r2_score\n",
        "from sklearn.model_selection import train_test_split\n",
        "X,y = load_diabetes(return_X_y=True)\n",
        "print(X.shape)\n",
        "print(y.shape)\n",
        "\n",
        "X_train,X_test,y_train,y_test = train_test_split(X,y,test_size=0.2,random_state=2)\n",
        "reg = LinearRegression()\n",
        "reg.fit(X_train,y_train)\n",
        "print(reg.coef_)\n",
        "print(reg.intercept_)"
      ]
    },
    {
      "cell_type": "code",
      "source": [
        "class Stochastic_GD:\n",
        "\n",
        "  def __init__(self,lr,epochs):\n",
        "    self.intercept = None\n",
        "    self.coef_ =None\n",
        "    self.epochs = epochs\n",
        "    self.lr = lr\n",
        "\n",
        "  def fit(self,X_train,y_train):\n",
        "\n",
        "    self.intercept=100\n",
        "    self.coef_  =np.ones(X_train.shape[1])\n",
        "\n",
        "    for i in range(self.epochs):\n",
        "      for j in range(X_train.shape[0]):\n",
        "\n",
        "        row_idx = np.random.randint(0,X_train.shape[0])\n",
        "        y_hat = np.dot(X_train[row_idx],self.coef_) + self.intercept\n",
        "\n",
        "        slope_intercept =  -2*(y_train[row_idx]-y_hat)\n",
        "        self.intercept = self.intercept-(self.lr*slope_intercept)\n",
        "\n",
        "        slope_coef_ = -2 * np.dot((y_train[row_idx]-y_hat),X_train[row_idx])\n",
        "        self.coef_ = self.coef_ -(self.lr*slope_coef_)\n",
        "\n",
        "  def predict(self,X_test):\n",
        "    return np.dot(X_test,self.coef_)+self.intercept\n",
        "\n",
        "\n",
        "\n",
        "\n",
        "sgd = Stochastic_GD(0.01,1000)\n",
        "sgd.fit(X_train,y_train)"
      ],
      "metadata": {
        "id": "WCq9tuicI1FM"
      },
      "execution_count": 17,
      "outputs": []
    },
    {
      "cell_type": "code",
      "source": [
        "y_pred = sgd.predict(X_test)\n",
        "r2_score(y_test,y_pred)"
      ],
      "metadata": {
        "colab": {
          "base_uri": "https://localhost:8080/"
        },
        "id": "-RM1Yyd-NQQt",
        "outputId": "4709f3c5-840a-41b1-f4a0-aabdd3c5a68b"
      },
      "execution_count": 18,
      "outputs": [
        {
          "output_type": "execute_result",
          "data": {
            "text/plain": [
              "0.42411014005130354"
            ]
          },
          "metadata": {},
          "execution_count": 18
        }
      ]
    }
  ]
}