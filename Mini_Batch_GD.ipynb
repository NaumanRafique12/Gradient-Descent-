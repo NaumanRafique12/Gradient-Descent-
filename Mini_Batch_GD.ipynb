{
  "nbformat": 4,
  "nbformat_minor": 0,
  "metadata": {
    "colab": {
      "provenance": []
    },
    "kernelspec": {
      "name": "python3",
      "display_name": "Python 3"
    },
    "language_info": {
      "name": "python"
    }
  },
  "cells": [
    {
      "cell_type": "code",
      "execution_count": 5,
      "metadata": {
        "colab": {
          "base_uri": "https://localhost:8080/"
        },
        "id": "D6iwMmINRYXS",
        "outputId": "55b9d6fb-5fa7-4210-9627-0b2162300d1a"
      },
      "outputs": [
        {
          "output_type": "stream",
          "name": "stdout",
          "text": [
            "(442, 10)\n",
            "(442,)\n",
            "[  -9.15865318 -205.45432163  516.69374454  340.61999905 -895.5520019\n",
            "  561.22067904  153.89310954  126.73139688  861.12700152   52.42112238]\n",
            "151.88331005254167\n"
          ]
        }
      ],
      "source": [
        "\n",
        "from sklearn.datasets import load_diabetes\n",
        "\n",
        "import numpy as np\n",
        "from sklearn.linear_model import LinearRegression\n",
        "from sklearn.metrics import r2_score\n",
        "from sklearn.model_selection import train_test_split\n",
        "X,y = load_diabetes(return_X_y=True)\n",
        "print(X.shape)\n",
        "print(y.shape)\n",
        "\n",
        "X_train,X_test,y_train,y_test = train_test_split(X,y,test_size=0.2,random_state=2)\n",
        "reg = LinearRegression()\n",
        "reg.fit(X_train,y_train)\n",
        "print(reg.coef_)\n",
        "print(reg.intercept_)"
      ]
    },
    {
      "cell_type": "code",
      "source": [
        "import random"
      ],
      "metadata": {
        "id": "g8qOs-8EX-m2"
      },
      "execution_count": 12,
      "outputs": []
    },
    {
      "cell_type": "code",
      "source": [
        "class Mini_BatchGD:\n",
        "\n",
        "  def __init__(self,batch_size,lr=0.01,epochs=100):\n",
        "    self.intercept=None\n",
        "    self.coef_ = None\n",
        "    self.lr = lr\n",
        "    self.batch_size= batch_size\n",
        "    self.epochs = epochs\n",
        "\n",
        "\n",
        "  def fit(self,X_train,y_train):\n",
        "     self.intercept = 0\n",
        "     self.coef_ = np.ones(X_train[1].shape)\n",
        "\n",
        "\n",
        "     for i in range(self.epochs):\n",
        "\n",
        "      for j in range(X_train.shape[0]//self.batch_size):\n",
        "\n",
        "        row_ids =random.sample(range(X_train.shape[0]),self.batch_size)\n",
        "        y_hat = np.dot(X_train[row_ids],self.coef_)+self.intercept\n",
        "\n",
        "        slope_intercept= -2 * np.mean(y_train[row_ids]-y_hat)\n",
        "        self.intercept = self.intercept-(self.lr*slope_intercept)\n",
        "\n",
        "        slope_coef = -2*np.dot((y_train[row_ids]-y_hat),X_train[row_ids])\n",
        "        self.coef_ = self.coef_ - (self.lr*slope_coef)\n",
        "     print(self.intercept,self.coef_)\n",
        "\n",
        "\n",
        "  def predict(self,X_test):\n",
        "    return np.dot(X_test,self.coef_)+self.intercept\n",
        "\n",
        "\n",
        "mbr = Mini_BatchGD(batch_size=int(X_train.shape[0]/50),lr=0.01,epochs=100)\n",
        "mbr.fit(X_train,y_train)\n",
        "y_pred = mbr.predict(X_test)\n",
        "r2_score(y_test,y_pred)\n"
      ],
      "metadata": {
        "colab": {
          "base_uri": "https://localhost:8080/"
        },
        "id": "9nJJ9F8NRcKM",
        "outputId": "78d07aaa-3f6b-4854-f80b-0043fb8ae2c1"
      },
      "execution_count": 29,
      "outputs": [
        {
          "output_type": "stream",
          "name": "stdout",
          "text": [
            "150.35329802672604 [  32.48738812 -145.05923517  443.79099463  295.66875453  -18.1893155\n",
            "  -88.5018213  -193.62020645  119.18645514  414.57019605  118.82893712]\n"
          ]
        },
        {
          "output_type": "execute_result",
          "data": {
            "text/plain": [
              "0.4528527530395776"
            ]
          },
          "metadata": {},
          "execution_count": 29
        }
      ]
    }
  ]
}