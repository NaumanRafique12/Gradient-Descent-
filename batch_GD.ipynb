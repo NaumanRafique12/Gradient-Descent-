{
  "nbformat": 4,
  "nbformat_minor": 0,
  "metadata": {
    "colab": {
      "provenance": []
    },
    "kernelspec": {
      "name": "python3",
      "display_name": "Python 3"
    },
    "language_info": {
      "name": "python"
    }
  },
  "cells": [
    {
      "cell_type": "code",
      "execution_count": 14,
      "metadata": {
        "id": "xCYgpdoMzGMk"
      },
      "outputs": [],
      "source": [
        "\n",
        "from sklearn.datasets import load_diabetes\n",
        "\n",
        "import numpy as np\n",
        "from sklearn.linear_model import LinearRegression\n",
        "from sklearn.metrics import r2_score\n",
        "from sklearn.model_selection import train_test_split"
      ]
    },
    {
      "cell_type": "code",
      "source": [
        "X,y = load_diabetes(return_X_y=True)\n",
        "print(X.shape)\n",
        "print(y.shape)\n",
        "\n",
        "X_train,X_test,y_train,y_test = train_test_split(X,y,test_size=0.2,random_state=2)\n",
        "reg = LinearRegression()\n",
        "reg.fit(X_train,y_train)\n",
        "print(reg.coef_)\n",
        "print(reg.intercept_)"
      ],
      "metadata": {
        "colab": {
          "base_uri": "https://localhost:8080/"
        },
        "id": "LhuCAZ9rzMup",
        "outputId": "c60e07a5-cae0-43c5-f304-7f10c2a356fb"
      },
      "execution_count": 15,
      "outputs": [
        {
          "output_type": "stream",
          "name": "stdout",
          "text": [
            "(442, 10)\n",
            "(442,)\n",
            "[  -9.15865318 -205.45432163  516.69374454  340.61999905 -895.5520019\n",
            "  561.22067904  153.89310954  126.73139688  861.12700152   52.42112238]\n",
            "151.88331005254167\n"
          ]
        }
      ]
    },
    {
      "cell_type": "code",
      "source": [
        "y_pred = reg.predict(X_test)\n",
        "r2_score(y_test,y_pred)"
      ],
      "metadata": {
        "colab": {
          "base_uri": "https://localhost:8080/"
        },
        "id": "oXX73m7QzQ4S",
        "outputId": "5a0cff0b-3417-48f2-c5ba-c344e7a4a43b"
      },
      "execution_count": 16,
      "outputs": [
        {
          "output_type": "execute_result",
          "data": {
            "text/plain": [
              "0.4399338661568968"
            ]
          },
          "metadata": {},
          "execution_count": 16
        }
      ]
    },
    {
      "cell_type": "code",
      "source": [
        "class Batch_GD:\n",
        "\n",
        "  def __init__(self,lr,epochs):\n",
        "    self.intercept=None\n",
        "    self.coef_=None\n",
        "    self.lr = lr\n",
        "    self.epochs = epochs\n",
        "  def fit(self,X_train,y_train):\n",
        "\n",
        "    self.intercept =0\n",
        "    self.coef_=np.ones(X_train.shape[1])\n",
        "\n",
        "    for i in range(self.epochs):\n",
        "\n",
        "      y_hat= np.dot(X_train,self.coef_) + self.intercept\n",
        "      slope_b = -2*np.mean(y_train-y_hat)\n",
        "      self.intercept= self.intercept - (self.lr*slope_b)\n",
        "\n",
        "      slope_coef =-2*( np.dot((y_train-y_hat),X_train)/X_train.shape[0])\n",
        "      self.coef_ =self.coef_-(self.lr*slope_coef)\n",
        "\n",
        "  def predict(self,X_test):\n",
        "    return np.dot(X_test,self.coef_)+self.intercept\n",
        "\n",
        "gdr = Batch_GD(0.5,1000)\n",
        "gdr.fit(X_train,y_train)\n",
        "y_pred = gdr.predict(X_test)\n",
        "r2_score(y_test,y_pred)"
      ],
      "metadata": {
        "colab": {
          "base_uri": "https://localhost:8080/"
        },
        "id": "wl0GjQI8zVR4",
        "outputId": "c721ef91-1995-4ea4-c131-a580f0aa0577"
      },
      "execution_count": 27,
      "outputs": [
        {
          "output_type": "execute_result",
          "data": {
            "text/plain": [
              "0.4534503034722803"
            ]
          },
          "metadata": {},
          "execution_count": 27
        }
      ]
    }
  ]
}